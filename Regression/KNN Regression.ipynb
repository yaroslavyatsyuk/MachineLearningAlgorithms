{
 "cells": [
  {
   "cell_type": "markdown",
   "metadata": {},
   "source": [
    "# K-NEARESR NEIGHBOR REGRESSION"
   ]
  },
  {
   "cell_type": "code",
   "execution_count": 1,
   "metadata": {},
   "outputs": [],
   "source": [
    "import numpy as np\n",
    "import pandas as pd\n",
    "from matplotlib import pyplot as plt"
   ]
  },
  {
   "cell_type": "code",
   "execution_count": 2,
   "metadata": {},
   "outputs": [],
   "source": [
    "class KNN_Regression():\n",
    "    \n",
    "    def __init__(self, data, features):\n",
    "        X = data[features]\n",
    "        self.norms = np.linalg.norm(X, axis=0)\n",
    "\n",
    "    def __get_distances(self, x_q, X):\n",
    "        '''Euclidian distance'''\n",
    "        return np.sqrt(np.sum((X - x_q)**2, axis=1))\n",
    "\n",
    "    def __get_k_nearest_neighbors_indicies(self, x_q, X, k):\n",
    "        dists = self.__get_distances(x_q, X)\n",
    "        return np.argsort(dists)[0:k]    \n",
    "\n",
    "    def knn_predict(self, X_q, X, y, k):\n",
    "        predictions = list()\n",
    "        X = np.array(X) / self.norms\n",
    "        X_q = np.array(X_q) / self.norms\n",
    "        for x_q in X_q:\n",
    "            nearest_ngh_indicies = self.__get_k_nearest_neighbors_indicies(x_q, X, k)\n",
    "            predictions.append(np.mean(y[nearest_ngh_indicies]))\n",
    "\n",
    "        return predictions\n",
    "\n",
    "def calculate_MSE(y, y_pred):\n",
    "            '''Mean Square Error'''\n",
    "            m = y.shape[0]\n",
    "            return np.sum((y - y_pred)**2) / m"
   ]
  },
  {
   "cell_type": "markdown",
   "metadata": {},
   "source": [
    "## Load Data "
   ]
  },
  {
   "cell_type": "code",
   "execution_count": 3,
   "metadata": {},
   "outputs": [],
   "source": [
    "dtype_dict = {'bathrooms':float, 'waterfront':int, 'sqft_above':int, 'sqft_living15':float, 'grade':int, 'yr_renovated':int, 'price':float, 'bedrooms':float, 'zipcode':str, 'long':float, 'sqft_lot15':float, 'sqft_living':float, 'floors':float, 'condition':int, 'lat':float, 'date':str, 'sqft_basement':int, 'yr_built':int, 'id':str, 'sqft_lot':int, 'view':int}\n",
    "sales_data = pd.read_csv(\"./data/house_data.csv\", dtype=dtype_dict)\n",
    "train = sales_data.sample(frac=0.8, random_state=0) \n",
    "test_valid = sales_data.drop(train.index)\n",
    "valid = test_valid.sample(frac=0.5, random_state=5)\n",
    "test = test_valid.drop(valid.index)\n"
   ]
  },
  {
   "cell_type": "code",
   "execution_count": 4,
   "metadata": {},
   "outputs": [],
   "source": [
    "feature_list = ['bedrooms',  \n",
    "                'bathrooms',  \n",
    "                'sqft_living',  \n",
    "                'sqft_lot',  \n",
    "                'floors',\n",
    "                'waterfront',  \n",
    "                'view',  \n",
    "                'condition',  \n",
    "                'grade',  \n",
    "                'sqft_above',  \n",
    "                'sqft_basement',\n",
    "                'yr_built',  \n",
    "                'yr_renovated',  \n",
    "                'lat',  \n",
    "                'long',  \n",
    "                'sqft_living15',  \n",
    "                'sqft_lot15']\n",
    "target = \"price\""
   ]
  },
  {
   "cell_type": "code",
   "execution_count": 5,
   "metadata": {},
   "outputs": [],
   "source": [
    "train_X = np.array(train[feature_list])\n",
    "train_y = np.array(train[target])\n",
    "valid_X = np.array(valid[feature_list])\n",
    "valid_y = np.array(valid[target])\n",
    "test_X = np.array(test[feature_list])\n",
    "test_y = np.array(test[target])"
   ]
  },
  {
   "cell_type": "markdown",
   "metadata": {},
   "source": [
    "## Test KNN Regression"
   ]
  },
  {
   "cell_type": "code",
   "execution_count": 6,
   "metadata": {},
   "outputs": [],
   "source": [
    "knn_reg = KNN_Regression(train, feature_list)"
   ]
  },
  {
   "cell_type": "code",
   "execution_count": 7,
   "metadata": {},
   "outputs": [],
   "source": [
    "k = 2\n",
    "predicted = knn_reg.knn_predict(test_X, train_X, train_y , k)"
   ]
  },
  {
   "cell_type": "markdown",
   "metadata": {},
   "source": [
    "## Check  Custom KNN Regression RMSE"
   ]
  },
  {
   "cell_type": "code",
   "execution_count": 8,
   "metadata": {},
   "outputs": [
    {
     "data": {
      "text/plain": [
       "221947.5316945931"
      ]
     },
     "execution_count": 8,
     "metadata": {},
     "output_type": "execute_result"
    }
   ],
   "source": [
    "np.sqrt(calculate_MSE(test_y, predicted))"
   ]
  },
  {
   "cell_type": "markdown",
   "metadata": {},
   "source": [
    "## Chose best k value"
   ]
  },
  {
   "cell_type": "code",
   "execution_count": 9,
   "metadata": {},
   "outputs": [],
   "source": [
    "rmse_all = list()\n",
    "for k in range(1, 16):\n",
    "    predict = knn_reg.knn_predict(valid_X, train_X, train_y, k)\n",
    "    RMSE = np.sqrt(calculate_MSE(valid_y, predict))\n",
    "    rmse_all.append(RMSE)"
   ]
  },
  {
   "cell_type": "code",
   "execution_count": 10,
   "metadata": {},
   "outputs": [
    {
     "data": {
      "text/plain": [
       "[<matplotlib.lines.Line2D at 0x7fada3a21c90>]"
      ]
     },
     "execution_count": 10,
     "metadata": {},
     "output_type": "execute_result"
    },
    {
     "data": {
      "image/png": "[encoded data removed]",
      "text/plain": [
       "<Figure size 432x288 with 1 Axes>"
      ]
     },
     "metadata": {
      "needs_background": "light"
     },
     "output_type": "display_data"
    }
   ],
   "source": [
    "import matplotlib.pyplot as plt\n",
    "\n",
    "kvals = range(1, 16)\n",
    "plt.plot(kvals, rmse_all,'bo-')"
   ]
  },
  {
   "cell_type": "markdown",
   "metadata": {},
   "source": [
    "## Plot Fit"
   ]
  },
  {
   "cell_type": "code",
   "execution_count": 11,
   "metadata": {},
   "outputs": [
    {
     "data": {
      "text/plain": [
       "203869.20899738907"
      ]
     },
     "execution_count": 11,
     "metadata": {},
     "output_type": "execute_result"
    }
   ],
   "source": [
    "predicted = knn_reg.knn_predict(test_X, train_X, train_y , 8)\n",
    "np.sqrt(calculate_MSE(test_y, predicted))"
   ]
  },
  {
   "cell_type": "code",
   "execution_count": 12,
   "metadata": {},
   "outputs": [
    {
     "data": {
      "text/plain": [
       "<matplotlib.legend.Legend at 0x7fada49a33d0>"
      ]
     },
     "execution_count": 12,
     "metadata": {},
     "output_type": "execute_result"
    },
    {
     "data": {
      "image/png": "[encoded data removed]",
      "text/plain": [
       "<Figure size 864x720 with 1 Axes>"
      ]
     },
     "metadata": {
      "needs_background": "light"
     },
     "output_type": "display_data"
    }
   ],
   "source": [
    "plt.figure(figsize=(12, 10))\n",
    "plt.plot(range(len(test_y)), np.sort(test_y), \"c-\", label=\"True Fit\")\n",
    "plt.plot(range(len(predicted)), np.sort(predicted), \"r-.\", label=\"Predicted Fit\")\n",
    "plt.legend(prop={\"size\":12})"
   ]
  },
  {
   "cell_type": "code",
   "execution_count": null,
   "metadata": {},
   "outputs": [],
   "source": []
  }
 ],
 "metadata": {
  "kernelspec": {
   "display_name": "Python 3",
   "language": "python",
   "name": "python3"
  },
  "language_info": {
   "codemirror_mode": {
    "name": "ipython",
    "version": 3
   },
   "file_extension": ".py",
   "mimetype": "text/x-python",
   "name": "python",
   "nbconvert_exporter": "python",
   "pygments_lexer": "ipython3",
   "version": "3.7.7"
  }
 },
 "nbformat": 4,
 "nbformat_minor": 4
}
