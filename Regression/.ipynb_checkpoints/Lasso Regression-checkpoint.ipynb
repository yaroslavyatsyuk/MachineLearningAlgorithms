{
 "cells": [
  {
   "cell_type": "markdown",
   "metadata": {},
   "source": [
    "# LASSO REGRESSION IMPLEMENTATION"
   ]
  },
  {
   "cell_type": "markdown",
   "metadata": {},
   "source": [
    "## `COORDINATE DESCENT ALGORITHM`\n",
    "### $w = 0$\n",
    "### $for j = 0,1,...,D:$\n",
    "### $p_{j}= \\sum \\limits _{i=1} ^N x_{j}^{(i)}(y^{(i)} - \\hat y_{pred}^{(i)} + w_{j}x_{j}^{(i)})$\n",
    "### $ \\hat w_{j} = \\left\\{\n",
    "        \\begin{array}\\\\\n",
    "            (p_{j} + \\lambda/2)/z_{j} & \\mbox{if} \\ p_{j} < - \\lambda/2 \\\\\n",
    "            0 & \\mbox{if} \\ p_{j} \\ in \\ [- \\lambda/2, \\lambda/2] \\\\\n",
    "            (p_{j}-\\lambda/2)/ z_{j} & \\mbox{if} \\ p_{j} > \\lambda/2\n",
    "         \\end{array}\n",
    "    \\right.\n",
    "$\n"
   ]
  },
  {
   "cell_type": "code",
   "execution_count": 1,
   "metadata": {},
   "outputs": [],
   "source": [
    "import numpy as np\n",
    "import pandas as pd"
   ]
  },
  {
   "cell_type": "code",
   "execution_count": 156,
   "metadata": {},
   "outputs": [],
   "source": [
    "class LassoRegression:\n",
    "    '''Coordinate gradient descent for lasso regression - for normalized data'''\n",
    "    \n",
    "    def __init__(self, data, features, target, l1=.01, n_rounds=100):\n",
    "        X,y = self.__prepare_data_for_training(data, features, target)\n",
    "        (X, self.norms) = self.__normalize_features(X)\n",
    "        \n",
    "        self.features_names = features\n",
    "        self.weights = np.zeros(X.shape[1])\n",
    "        \n",
    "        self.__coordinate_descent_lasso(X, y, self.weights, l1, n_rounds)\n",
    "        \n",
    "    def __coordinate_descent_lasso(self, X, y, w, lamda, n_rounds):\n",
    "        m,n = X.shape\n",
    "        \n",
    "        for i in range(n_rounds):            \n",
    "            \n",
    "            # Looping through each coordinate\n",
    "            for j in range(n):\n",
    "                X_j = X[:, j]\n",
    "                y_pred = X @ w\n",
    "                rho = sum(X_j * (y - y_pred + w[j] * X_j))\n",
    "                #print((y - y_pred + w[j] * X_j))\n",
    "                \n",
    "                # Do not penalize intercept\n",
    "                if(j == 0):\n",
    "                    w[j] = rho\n",
    "                else:\n",
    "                    w[j] = self.__soft_threshold(rho, lamda)\n",
    "                    \n",
    "        # Save learned weights\n",
    "        self.weights = w\n",
    "        print(\"Lasso Regression Training Finished\")\n",
    "        print(\"Training MSE:\", self.__calculate_MSE(X, y, w))      \n",
    "       # print(self.coefficients())\n",
    "    \n",
    "    def __normalize_features(self, X):\n",
    "        norms = np.linalg.norm(X, axis=0)\n",
    "        normalized_features = X / norms\n",
    "        return (normalized_features, norms)      \n",
    "    \n",
    "    def __prepare_data_for_training(self, data, features, target):\n",
    "        X = data[features]\n",
    "        y = data[target]\n",
    "        X = np.append(np.ones((len(X), 1)), X, axis=1)\n",
    "        return(X, y)\n",
    "\n",
    "    def __soft_threshold(self, rho, lamda):\n",
    "        '''Soft threshold function used for normalized data and lasso regression'''\n",
    "        if rho < - lamda / 2:\n",
    "            return (rho + lamda)\n",
    "        elif rho >  lamda / 2:\n",
    "            return (rho - lamda)\n",
    "        else: \n",
    "            return 0\n",
    "     \n",
    "    def __calculate_MSE(self, X, y, w):\n",
    "        '''Mean Square Error'''\n",
    "        m = y.shape[0]\n",
    "        print(X @ w)\n",
    "        return np.sum((y - X @ w)**2) / m\n",
    "    \n",
    "    def coefficients(self):\n",
    "        features = [\"intercept\"] + self.features_names;\n",
    "        coef = dict(zip((features), self.weights))\n",
    "        print(coef)\n",
    "        return pd.DataFrame(coef)\n",
    "        \n",
    "    def predict(self, X):\n",
    "        X = np.array(X)\n",
    "        n = len(X)\n",
    "        X = np.append(np.ones((n,1)), X, axis=1)\n",
    "        return X @ (self.weights / self.norms)"
   ]
  },
  {
   "cell_type": "markdown",
   "metadata": {},
   "source": [
    "## Load Data"
   ]
  },
  {
   "cell_type": "code",
   "execution_count": 157,
   "metadata": {},
   "outputs": [],
   "source": [
    "sales_data = pd.read_csv(\"./data/house_data.csv\")\n",
    "train = sales_data.sample(frac=0.7, random_state=0) \n",
    "test = sales_data.drop(train.index)"
   ]
  },
  {
   "cell_type": "code",
   "execution_count": 158,
   "metadata": {},
   "outputs": [
    {
     "data": {
      "text/html": [
       "<div>\n",
       "<style scoped>\n",
       "    .dataframe tbody tr th:only-of-type {\n",
       "        vertical-align: middle;\n",
       "    }\n",
       "\n",
       "    .dataframe tbody tr th {\n",
       "        vertical-align: top;\n",
       "    }\n",
       "\n",
       "    .dataframe thead th {\n",
       "        text-align: right;\n",
       "    }\n",
       "</style>\n",
       "<table border=\"1\" class=\"dataframe\">\n",
       "  <thead>\n",
       "    <tr style=\"text-align: right;\">\n",
       "      <th></th>\n",
       "      <th>id</th>\n",
       "      <th>date</th>\n",
       "      <th>price</th>\n",
       "      <th>bedrooms</th>\n",
       "      <th>bathrooms</th>\n",
       "      <th>sqft_living</th>\n",
       "      <th>sqft_lot</th>\n",
       "      <th>floors</th>\n",
       "      <th>waterfront</th>\n",
       "      <th>view</th>\n",
       "      <th>...</th>\n",
       "      <th>grade</th>\n",
       "      <th>sqft_above</th>\n",
       "      <th>sqft_basement</th>\n",
       "      <th>yr_built</th>\n",
       "      <th>yr_renovated</th>\n",
       "      <th>zipcode</th>\n",
       "      <th>lat</th>\n",
       "      <th>long</th>\n",
       "      <th>sqft_living15</th>\n",
       "      <th>sqft_lot15</th>\n",
       "    </tr>\n",
       "  </thead>\n",
       "  <tbody>\n",
       "    <tr>\n",
       "      <th>0</th>\n",
       "      <td>7129300520</td>\n",
       "      <td>20141013T000000</td>\n",
       "      <td>221900.0</td>\n",
       "      <td>3</td>\n",
       "      <td>1.00</td>\n",
       "      <td>1180</td>\n",
       "      <td>5650</td>\n",
       "      <td>1.0</td>\n",
       "      <td>0</td>\n",
       "      <td>0</td>\n",
       "      <td>...</td>\n",
       "      <td>7</td>\n",
       "      <td>1180</td>\n",
       "      <td>0</td>\n",
       "      <td>1955</td>\n",
       "      <td>0</td>\n",
       "      <td>98178</td>\n",
       "      <td>47.5112</td>\n",
       "      <td>-122.257</td>\n",
       "      <td>1340</td>\n",
       "      <td>5650</td>\n",
       "    </tr>\n",
       "    <tr>\n",
       "      <th>1</th>\n",
       "      <td>6414100192</td>\n",
       "      <td>20141209T000000</td>\n",
       "      <td>538000.0</td>\n",
       "      <td>3</td>\n",
       "      <td>2.25</td>\n",
       "      <td>2570</td>\n",
       "      <td>7242</td>\n",
       "      <td>2.0</td>\n",
       "      <td>0</td>\n",
       "      <td>0</td>\n",
       "      <td>...</td>\n",
       "      <td>7</td>\n",
       "      <td>2170</td>\n",
       "      <td>400</td>\n",
       "      <td>1951</td>\n",
       "      <td>1991</td>\n",
       "      <td>98125</td>\n",
       "      <td>47.7210</td>\n",
       "      <td>-122.319</td>\n",
       "      <td>1690</td>\n",
       "      <td>7639</td>\n",
       "    </tr>\n",
       "    <tr>\n",
       "      <th>2</th>\n",
       "      <td>5631500400</td>\n",
       "      <td>20150225T000000</td>\n",
       "      <td>180000.0</td>\n",
       "      <td>2</td>\n",
       "      <td>1.00</td>\n",
       "      <td>770</td>\n",
       "      <td>10000</td>\n",
       "      <td>1.0</td>\n",
       "      <td>0</td>\n",
       "      <td>0</td>\n",
       "      <td>...</td>\n",
       "      <td>6</td>\n",
       "      <td>770</td>\n",
       "      <td>0</td>\n",
       "      <td>1933</td>\n",
       "      <td>0</td>\n",
       "      <td>98028</td>\n",
       "      <td>47.7379</td>\n",
       "      <td>-122.233</td>\n",
       "      <td>2720</td>\n",
       "      <td>8062</td>\n",
       "    </tr>\n",
       "    <tr>\n",
       "      <th>3</th>\n",
       "      <td>2487200875</td>\n",
       "      <td>20141209T000000</td>\n",
       "      <td>604000.0</td>\n",
       "      <td>4</td>\n",
       "      <td>3.00</td>\n",
       "      <td>1960</td>\n",
       "      <td>5000</td>\n",
       "      <td>1.0</td>\n",
       "      <td>0</td>\n",
       "      <td>0</td>\n",
       "      <td>...</td>\n",
       "      <td>7</td>\n",
       "      <td>1050</td>\n",
       "      <td>910</td>\n",
       "      <td>1965</td>\n",
       "      <td>0</td>\n",
       "      <td>98136</td>\n",
       "      <td>47.5208</td>\n",
       "      <td>-122.393</td>\n",
       "      <td>1360</td>\n",
       "      <td>5000</td>\n",
       "    </tr>\n",
       "    <tr>\n",
       "      <th>4</th>\n",
       "      <td>1954400510</td>\n",
       "      <td>20150218T000000</td>\n",
       "      <td>510000.0</td>\n",
       "      <td>3</td>\n",
       "      <td>2.00</td>\n",
       "      <td>1680</td>\n",
       "      <td>8080</td>\n",
       "      <td>1.0</td>\n",
       "      <td>0</td>\n",
       "      <td>0</td>\n",
       "      <td>...</td>\n",
       "      <td>8</td>\n",
       "      <td>1680</td>\n",
       "      <td>0</td>\n",
       "      <td>1987</td>\n",
       "      <td>0</td>\n",
       "      <td>98074</td>\n",
       "      <td>47.6168</td>\n",
       "      <td>-122.045</td>\n",
       "      <td>1800</td>\n",
       "      <td>7503</td>\n",
       "    </tr>\n",
       "  </tbody>\n",
       "</table>\n",
       "<p>5 rows × 21 columns</p>\n",
       "</div>"
      ],
      "text/plain": [
       "           id             date     price  bedrooms  bathrooms  sqft_living  \\\n",
       "0  7129300520  20141013T000000  221900.0         3       1.00         1180   \n",
       "1  6414100192  20141209T000000  538000.0         3       2.25         2570   \n",
       "2  5631500400  20150225T000000  180000.0         2       1.00          770   \n",
       "3  2487200875  20141209T000000  604000.0         4       3.00         1960   \n",
       "4  1954400510  20150218T000000  510000.0         3       2.00         1680   \n",
       "\n",
       "   sqft_lot  floors  waterfront  view  ...  grade  sqft_above  sqft_basement  \\\n",
       "0      5650     1.0           0     0  ...      7        1180              0   \n",
       "1      7242     2.0           0     0  ...      7        2170            400   \n",
       "2     10000     1.0           0     0  ...      6         770              0   \n",
       "3      5000     1.0           0     0  ...      7        1050            910   \n",
       "4      8080     1.0           0     0  ...      8        1680              0   \n",
       "\n",
       "   yr_built  yr_renovated  zipcode      lat     long  sqft_living15  \\\n",
       "0      1955             0    98178  47.5112 -122.257           1340   \n",
       "1      1951          1991    98125  47.7210 -122.319           1690   \n",
       "2      1933             0    98028  47.7379 -122.233           2720   \n",
       "3      1965             0    98136  47.5208 -122.393           1360   \n",
       "4      1987             0    98074  47.6168 -122.045           1800   \n",
       "\n",
       "   sqft_lot15  \n",
       "0        5650  \n",
       "1        7639  \n",
       "2        8062  \n",
       "3        5000  \n",
       "4        7503  \n",
       "\n",
       "[5 rows x 21 columns]"
      ]
     },
     "execution_count": 158,
     "metadata": {},
     "output_type": "execute_result"
    }
   ],
   "source": [
    "sales_data.head()"
   ]
  },
  {
   "cell_type": "code",
   "execution_count": 159,
   "metadata": {},
   "outputs": [],
   "source": [
    "simple_features = ['sqft_living', 'bedrooms']"
   ]
  },
  {
   "cell_type": "code",
   "execution_count": 160,
   "metadata": {},
   "outputs": [
    {
     "name": "stdout",
     "output_type": "stream",
     "text": [
      "[[0.00680209 0.00353021 0.00583571]\n",
      " [0.00680209 0.00768869 0.00583571]\n",
      " [0.00680209 0.00230361 0.00389048]\n",
      " ...\n",
      " [0.00680209 0.00305154 0.00389048]\n",
      " [0.00680209 0.00478673 0.00583571]\n",
      " [0.00680209 0.00305154 0.00389048]]\n",
      "Lasso Regression Training Finished\n",
      "[503987.90109735 623477.04054686 504740.97206243 ... 526231.82448141\n",
      " 540092.53316123 526231.82448141]\n",
      "Training MSE: 106744554045.0178\n"
     ]
    },
    {
     "data": {
      "text/plain": [
       "<__main__.LassoRegression at 0x7f85e9d0d050>"
      ]
     },
     "execution_count": 160,
     "metadata": {},
     "output_type": "execute_result"
    }
   ],
   "source": [
    "LassoRegression(sales_data,simple_features, \"price\", 0.1, 2)"
   ]
  },
  {
   "cell_type": "code",
   "execution_count": null,
   "metadata": {},
   "outputs": [],
   "source": []
  },
  {
   "cell_type": "code",
   "execution_count": null,
   "metadata": {},
   "outputs": [],
   "source": []
  },
  {
   "cell_type": "code",
   "execution_count": 288,
   "metadata": {},
   "outputs": [],
   "source": [
    "def predict_output(feature_matrix, weights):\n",
    "    return feature_matrix @ weights"
   ]
  },
  {
   "cell_type": "code",
   "execution_count": 289,
   "metadata": {},
   "outputs": [],
   "source": [
    "def prepare_for_training(data, features, target):\n",
    "    X = data[features]\n",
    "    y = data[target]\n",
    "    X = np.append(np.ones((len(X), 1)), X, axis=1)\n",
    "    return(X, y)"
   ]
  },
  {
   "cell_type": "code",
   "execution_count": 290,
   "metadata": {},
   "outputs": [],
   "source": [
    "simple_data = all_data[[\"sqft_living\", \"bedrooms\"]]"
   ]
  },
  {
   "cell_type": "code",
   "execution_count": 291,
   "metadata": {},
   "outputs": [],
   "source": [
    "simple_data = np.append(np.ones((len(simple_data), 1)), simple_data, axis=1)\n"
   ]
  },
  {
   "cell_type": "code",
   "execution_count": 292,
   "metadata": {},
   "outputs": [],
   "source": [
    "simple_data, norms_simple =  normalize_features(simple_data)"
   ]
  },
  {
   "cell_type": "code",
   "execution_count": 293,
   "metadata": {},
   "outputs": [],
   "source": [
    "init_weights = [1,4,1]\n",
    "pred = predict_output(simple_data, init_weights)"
   ]
  },
  {
   "cell_type": "code",
   "execution_count": 294,
   "metadata": {},
   "outputs": [],
   "source": [
    "ro = [0,0,0]\n",
    "ro[0] = sum(simple_data[:, 0] * (all_data[\"price\"] - pred + init_weights[0] * simple_data[:, 0]))\n",
    "ro[1] = sum(simple_data[:, 1] * (all_data[\"price\"] - pred + init_weights[1] * simple_data[:, 1]))\n",
    "ro[2] = sum(simple_data[:, 2] * (all_data[\"price\"] - pred + init_weights[2] * simple_data[:, 2]))"
   ]
  },
  {
   "cell_type": "code",
   "execution_count": 295,
   "metadata": {},
   "outputs": [
    {
     "data": {
      "text/plain": [
       "[79400300.01452343, 87939470.823252, 80966698.66623926]"
      ]
     },
     "execution_count": 295,
     "metadata": {},
     "output_type": "execute_result"
    }
   ],
   "source": [
    "ro"
   ]
  },
  {
   "cell_type": "code",
   "execution_count": 296,
   "metadata": {},
   "outputs": [
    {
     "data": {
      "text/plain": [
       "(80966698.66623926, -80966698.66623926)"
      ]
     },
     "execution_count": 296,
     "metadata": {},
     "output_type": "execute_result"
    }
   ],
   "source": [
    "(161933397.33247852 / 2), (161933397.33247852 / -2)"
   ]
  },
  {
   "cell_type": "code",
   "execution_count": 418,
   "metadata": {},
   "outputs": [
    {
     "data": {
      "text/plain": [
       "95000000.0"
      ]
     },
     "execution_count": 418,
     "metadata": {},
     "output_type": "execute_result"
    }
   ],
   "source": [
    "1.9e8 / 2"
   ]
  },
  {
   "cell_type": "code",
   "execution_count": 297,
   "metadata": {},
   "outputs": [
    {
     "data": {
      "text/plain": [
       "87939470.823252"
      ]
     },
     "execution_count": 297,
     "metadata": {},
     "output_type": "execute_result"
    }
   ],
   "source": [
    "175878941.646504 / 2"
   ]
  },
  {
   "cell_type": "code",
   "execution_count": 298,
   "metadata": {},
   "outputs": [],
   "source": [
    "def lasso_coordinate_descent_step(i, feature_matrix, output, weights, l1_penalty):\n",
    "    prediction = predict_output(feature_matrix, weights)\n",
    "    ro_i = sum(feature_matrix[:, i] * (output - prediction + weights[i] * feature_matrix[:, i]))\n",
    "    \n",
    "    if i == 0:\n",
    "        new_weight_i = ro_i\n",
    "    elif (ro_i < -l1_penalty/2.):\n",
    "        new_weight_i = ro_i + l1_penalty/2.\n",
    "    elif (ro_i > l1_penalty/2.):\n",
    "        new_weight_i = ro_i - l1_penalty/2.\n",
    "    else:\n",
    "        new_weight_i = 0.\n",
    "    \n",
    "    return new_weight_i"
   ]
  },
  {
   "cell_type": "code",
   "execution_count": 356,
   "metadata": {},
   "outputs": [
    {
     "data": {
      "text/plain": [
       "0.4255588466910251"
      ]
     },
     "execution_count": 356,
     "metadata": {},
     "output_type": "execute_result"
    }
   ],
   "source": [
    "# should print 0.425558846691\n",
    "import math\n",
    "lasso_coordinate_descent_step(1, np.array([[3./math.sqrt(13),1./math.sqrt(10)],\n",
    "                   [2./math.sqrt(13),3./math.sqrt(10)]]), np.array([1., 1.]), np.array([1., 4.]), 0.1)"
   ]
  },
  {
   "cell_type": "code",
   "execution_count": 419,
   "metadata": {},
   "outputs": [],
   "source": [
    "def lasso_cyclical_coordinate_descent(X, y, initial_weights, l1_penalty, tolerance):\n",
    "    max_weight_change = tolerance + 1\n",
    "    weight_changes = np.zeros(len(initial_weights))\n",
    "    weights = initial_weights\n",
    "    \n",
    "    while(max_weight_change > tolerance):\n",
    "        for i in range(len(weights)):\n",
    "            old_w = weights[i]\n",
    "            weights[i] = lasso_coordinate_descent_step(i, X, y, weights, l1_penalty)    \n",
    "            weight_changes[i] = abs(old_w - weights[i])\n",
    "            \n",
    "        max_weight_change = max(weight_changes)\n",
    "            \n",
    "            \n",
    "    return weights"
   ]
  },
  {
   "cell_type": "code",
   "execution_count": 420,
   "metadata": {},
   "outputs": [],
   "source": [
    "simple_features = ['sqft_living', 'bedrooms']\n",
    "my_output = 'price'\n",
    "initial_weights = np.zeros(3)\n",
    "l1_penalty = 1e7\n",
    "tolerance = 1.0"
   ]
  },
  {
   "cell_type": "code",
   "execution_count": 421,
   "metadata": {},
   "outputs": [],
   "source": [
    "(simple_feature_matrix, output) = prepare_for_training(all_data, simple_features, my_output)\n",
    "(normalized_simple_feature_matrix, simple_norms) = normalize_features(simple_feature_matrix)"
   ]
  },
  {
   "cell_type": "code",
   "execution_count": 422,
   "metadata": {},
   "outputs": [],
   "source": [
    "weights = lasso_cyclical_coordinate_descent(normalized_simple_feature_matrix, output,\n",
    "                                            initial_weights, l1_penalty, tolerance)"
   ]
  },
  {
   "cell_type": "code",
   "execution_count": 423,
   "metadata": {},
   "outputs": [
    {
     "data": {
      "text/plain": [
       "array([21624997.95951881, 63157247.2078899 ,        0.        ])"
      ]
     },
     "execution_count": 423,
     "metadata": {},
     "output_type": "execute_result"
    }
   ],
   "source": [
    "weights"
   ]
  },
  {
   "cell_type": "code",
   "execution_count": 424,
   "metadata": {},
   "outputs": [],
   "source": [
    "simple_fetures_pred = predict_output(normalized_simple_feature_matrix, weights)"
   ]
  },
  {
   "cell_type": "code",
   "execution_count": 425,
   "metadata": {},
   "outputs": [
    {
     "data": {
      "text/plain": [
       "1630492476715377.0"
      ]
     },
     "execution_count": 425,
     "metadata": {},
     "output_type": "execute_result"
    }
   ],
   "source": [
    "RSS_simple_model = sum((simple_fetures_pred - output)**2)\n",
    "RSS_simple_model"
   ]
  },
  {
   "cell_type": "code",
   "execution_count": null,
   "metadata": {},
   "outputs": [],
   "source": [
    "1630492476715377"
   ]
  },
  {
   "cell_type": "markdown",
   "metadata": {},
   "source": [
    "## Evaluating LASSO fit with more features"
   ]
  },
  {
   "cell_type": "code",
   "execution_count": 396,
   "metadata": {},
   "outputs": [],
   "source": [
    "all_features = ['bedrooms',\n",
    "                'bathrooms',\n",
    "                'sqft_living',\n",
    "                'sqft_lot',\n",
    "                'floors',\n",
    "                'waterfront', \n",
    "                'view', \n",
    "                'condition', \n",
    "                'grade',\n",
    "                'sqft_above',\n",
    "                'sqft_basement',\n",
    "                'yr_built', \n",
    "                'yr_renovated']"
   ]
  },
  {
   "cell_type": "code",
   "execution_count": 397,
   "metadata": {},
   "outputs": [],
   "source": [
    "all_features_matrix, train_output = prepare_for_training(train, all_features, my_output)\n",
    "(normalized_all_feature_matrix, all_f_norms) = normalize_features(all_features_matrix)"
   ]
  },
  {
   "cell_type": "code",
   "execution_count": 398,
   "metadata": {},
   "outputs": [],
   "source": [
    "weights1e7 = lasso_cyclical_coordinate_descent(normalized_all_feature_matrix, train_output,\n",
    "                                            np.zeros(normalized_all_feature_matrix.shape[1]), 1e7, 1)"
   ]
  },
  {
   "cell_type": "code",
   "execution_count": 400,
   "metadata": {},
   "outputs": [],
   "source": [
    "weights1e8 = lasso_cyclical_coordinate_descent(normalized_all_feature_matrix, train_output,\n",
    "                                            np.zeros(normalized_all_feature_matrix.shape[1]), 1e8, 1)"
   ]
  },
  {
   "cell_type": "code",
   "execution_count": 401,
   "metadata": {},
   "outputs": [
    {
     "data": {
      "text/plain": [
       "array([71114625.71488713,        0.        ,        0.        ,\n",
       "              0.        ,        0.        ,        0.        ,\n",
       "              0.        ,        0.        ,        0.        ,\n",
       "              0.        ,        0.        ,        0.        ,\n",
       "              0.        ,        0.        ])"
      ]
     },
     "execution_count": 401,
     "metadata": {},
     "output_type": "execute_result"
    }
   ],
   "source": [
    "weights1e8"
   ]
  },
  {
   "cell_type": "code",
   "execution_count": 403,
   "metadata": {},
   "outputs": [],
   "source": [
    "weights1e4 = lasso_cyclical_coordinate_descent(normalized_all_feature_matrix, train_output,\n",
    "                                            np.zeros(normalized_all_feature_matrix.shape[1]), 1e4, 5e5)"
   ]
  },
  {
   "cell_type": "code",
   "execution_count": 404,
   "metadata": {},
   "outputs": [
    {
     "data": {
      "text/plain": [
       "array([ 78564738.34156865, -22097398.92430516,  12791071.87278499,\n",
       "        93808088.09281231,  -2013172.75704975,  -4219184.93265008,\n",
       "         6482842.81753504,   7127408.53480684,   5001664.85469708,\n",
       "        14327518.43714112, -15770959.15237417,  -5159591.22213152,\n",
       "       -84495341.76843902,   2824439.49703689])"
      ]
     },
     "execution_count": 404,
     "metadata": {},
     "output_type": "execute_result"
    }
   ],
   "source": [
    "weights1e4"
   ]
  },
  {
   "cell_type": "code",
   "execution_count": 405,
   "metadata": {},
   "outputs": [
    {
     "data": {
      "text/plain": [
       "161.31745764611622"
      ]
     },
     "execution_count": 405,
     "metadata": {},
     "output_type": "execute_result"
    }
   ],
   "source": [
    "weights1e7_normalized = weights1e7 / all_f_norms\n",
    "weights1e7_normalized[3]"
   ]
  },
  {
   "cell_type": "code",
   "execution_count": 407,
   "metadata": {},
   "outputs": [],
   "source": [
    "weights1e8_normalized = weights1e8 / all_f_norms"
   ]
  },
  {
   "cell_type": "code",
   "execution_count": 408,
   "metadata": {},
   "outputs": [],
   "source": [
    "weights1e4_normalized = weights1e4 / all_f_norms"
   ]
  },
  {
   "cell_type": "code",
   "execution_count": 409,
   "metadata": {},
   "outputs": [],
   "source": [
    "all_features_matrix_test, test_output = prepare_for_training(test, all_features, my_output)"
   ]
  },
  {
   "cell_type": "markdown",
   "metadata": {},
   "source": [
    "# RSS 1e4"
   ]
  },
  {
   "cell_type": "code",
   "execution_count": 410,
   "metadata": {},
   "outputs": [
    {
     "data": {
      "text/plain": [
       "228459958971392.34"
      ]
     },
     "execution_count": 410,
     "metadata": {},
     "output_type": "execute_result"
    }
   ],
   "source": [
    "RSS1e4 = sum((predict_output(all_features_matrix_test, weights1e4_normalized) - test_output)**2)\n",
    "RSS1e4"
   ]
  },
  {
   "cell_type": "markdown",
   "metadata": {},
   "source": [
    "# RSS 1e7"
   ]
  },
  {
   "cell_type": "code",
   "execution_count": 411,
   "metadata": {},
   "outputs": [
    {
     "data": {
      "text/plain": [
       "275962075920367.44"
      ]
     },
     "execution_count": 411,
     "metadata": {},
     "output_type": "execute_result"
    }
   ],
   "source": [
    "RSS1e7 = sum((predict_output(all_features_matrix_test, weights1e7_normalized) - test_output)**2)\n",
    "RSS1e7"
   ]
  },
  {
   "cell_type": "markdown",
   "metadata": {},
   "source": [
    "# RSS 1e8"
   ]
  },
  {
   "cell_type": "code",
   "execution_count": 412,
   "metadata": {},
   "outputs": [
    {
     "data": {
      "text/plain": [
       "537166151497322.4"
      ]
     },
     "execution_count": 412,
     "metadata": {},
     "output_type": "execute_result"
    }
   ],
   "source": [
    "RSS1e8 = sum((predict_output(all_features_matrix_test, weights1e8_normalized) - test_output)**2)\n",
    "RSS1e8"
   ]
  },
  {
   "cell_type": "code",
   "execution_count": 413,
   "metadata": {},
   "outputs": [
    {
     "data": {
      "text/plain": [
       "228459958971392.34"
      ]
     },
     "execution_count": 413,
     "metadata": {},
     "output_type": "execute_result"
    }
   ],
   "source": [
    "min([RSS1e4, RSS1e7, RSS1e8])"
   ]
  },
  {
   "cell_type": "code",
   "execution_count": null,
   "metadata": {},
   "outputs": [],
   "source": []
  }
 ],
 "metadata": {
  "kernelspec": {
   "display_name": "Python 3",
   "language": "python",
   "name": "python3"
  },
  "language_info": {
   "codemirror_mode": {
    "name": "ipython",
    "version": 3
   },
   "file_extension": ".py",
   "mimetype": "text/x-python",
   "name": "python",
   "nbconvert_exporter": "python",
   "pygments_lexer": "ipython3",
   "version": "3.7.7"
  }
 },
 "nbformat": 4,
 "nbformat_minor": 4
}
