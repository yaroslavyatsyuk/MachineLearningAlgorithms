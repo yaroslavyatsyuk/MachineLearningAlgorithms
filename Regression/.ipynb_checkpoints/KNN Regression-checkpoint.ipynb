{
 "cells": [
  {
   "cell_type": "markdown",
   "metadata": {},
   "source": [
    "# K-NEARESR NEIGHBOR REGRESSION"
   ]
  },
  {
   "cell_type": "code",
   "execution_count": 1,
   "metadata": {},
   "outputs": [],
   "source": [
    "import numpy as np\n",
    "import pandas as pd\n",
    "from matplotlib import pyplot as plt"
   ]
  },
  {
   "cell_type": "code",
   "execution_count": 2,
   "metadata": {},
   "outputs": [],
   "source": [
    "class KNN_Regression():\n",
    "    \n",
    "    def __init__(self, data, features):\n",
    "        X = data[features]\n",
    "        self.norms = np.linalg.norm(X, axis=0)\n",
    "        \n",
    "    def __normalize_features(self, X):\n",
    "            norms = np.linalg.norm(X, axis=0)\n",
    "            normalized_features = X / norms\n",
    "            return (normalized_features, norms)\n",
    "\n",
    "    def __calculate_MSE(self, y, y_pred):\n",
    "            '''Mean Square Error'''\n",
    "            m = y.shape[0]\n",
    "            return np.sum((y - y_pred)**2) / m\n",
    "\n",
    "    def __get_distances(self, x_q, X):\n",
    "        '''Euclidian distance'''\n",
    "        return np.sqrt(np.sum((X - x_q)**2, axis=1))\n",
    "\n",
    "    def __get_k_nearest_neighbors_indicies(self, x_q, X, k):\n",
    "        dists = get_distances(x_q, X)\n",
    "        return np.argsort(dists)[0:k]    \n",
    "\n",
    "    def knn_predict(X_q, X, y, k):\n",
    "        predictions = list()\n",
    "        for x_q in X_q:\n",
    "            nearest_ngh_indicies = get_k_nearest_neighbors_indicies(x_q, X, k)\n",
    "            predictions.append(np.mean(y[nearest_ngh_indicies]))\n",
    "\n",
    "        return predictions"
   ]
  },
  {
   "cell_type": "code",
   "execution_count": 3,
   "metadata": {},
   "outputs": [],
   "source": [
    "sales_data = pd.read_csv(\"./data/house_data.csv\")\n",
    "train = sales_data.sample(frac=0.7, random_state=0) \n",
    "test = sales_data.drop(train.index)"
   ]
  },
  {
   "cell_type": "code",
   "execution_count": null,
   "metadata": {},
   "outputs": [],
   "source": []
  },
  {
   "cell_type": "code",
   "execution_count": null,
   "metadata": {},
   "outputs": [],
   "source": []
  },
  {
   "cell_type": "code",
   "execution_count": null,
   "metadata": {},
   "outputs": [],
   "source": []
  },
  {
   "cell_type": "code",
   "execution_count": null,
   "metadata": {},
   "outputs": [],
   "source": []
  },
  {
   "cell_type": "code",
   "execution_count": null,
   "metadata": {},
   "outputs": [],
   "source": []
  },
  {
   "cell_type": "code",
   "execution_count": null,
   "metadata": {},
   "outputs": [],
   "source": []
  }
 ],
 "metadata": {
  "kernelspec": {
   "display_name": "Python 3",
   "language": "python",
   "name": "python3"
  },
  "language_info": {
   "codemirror_mode": {
    "name": "ipython",
    "version": 3
   },
   "file_extension": ".py",
   "mimetype": "text/x-python",
   "name": "python",
   "nbconvert_exporter": "python",
   "pygments_lexer": "ipython3",
   "version": "3.7.7"
  }
 },
 "nbformat": 4,
 "nbformat_minor": 4
}
