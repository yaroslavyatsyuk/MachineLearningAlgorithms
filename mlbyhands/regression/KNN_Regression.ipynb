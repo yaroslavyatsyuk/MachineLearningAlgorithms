{
 "cells": [
  {
   "cell_type": "markdown",
   "metadata": {},
   "source": [
    "## K-NN REGRESSION BRUTE-FORCE IMPLEMENTATION"
   ]
  },
  {
   "cell_type": "code",
   "execution_count": 1,
   "metadata": {},
   "outputs": [],
   "source": [
    "import numpy as np\n",
    "import pandas as pd\n",
    "from matplotlib import pyplot as plt"
   ]
  },
  {
   "cell_type": "code",
   "execution_count": 2,
   "metadata": {},
   "outputs": [],
   "source": [
    "class KNN_Regression():\n",
    "    '''\n",
    "     Brute-Force KNN Regression with Euclidian distance\n",
    "    '''\n",
    "    def __init__(self, n_neighbors=2):\n",
    "        self.n_neighbors = n_neighbors\n",
    "\n",
    "    def fit(self, X, y):\n",
    "        X = np.array(X)\n",
    "        self.norms = np.linalg.norm(X, axis=0)\n",
    "\n",
    "        self.X = X / self.norms\n",
    "        self.y = np.array(y)\n",
    "\n",
    "    def _get_distances(self, x_q, X):\n",
    "        '''Euclidian distance'''\n",
    "        return np.sqrt(np.sum((X - x_q) ** 2, axis=1))\n",
    "\n",
    "    def _get_k_nearest_neighbors_indicies(self, x_q, X, k):\n",
    "        dists = self._get_distances(x_q, X)\n",
    "        return np.argsort(dists)[0:k]\n",
    "\n",
    "    def predict(self, X_q):\n",
    "        predictions = list()\n",
    "        X_q = np.array(X_q) / self.norms\n",
    "        for x_q in X_q:\n",
    "            nearest_ngh_indicies = self._get_k_nearest_neighbors_indicies(x_q, self.X, self.n_neighbors)\n",
    "            predictions.append(np.mean(self.y[nearest_ngh_indicies]))\n",
    "\n",
    "        return predictions\n",
    "\n",
    "\n",
    "def calculate_MSE(y, y_pred):\n",
    "    '''Mean Squared Error'''\n",
    "    return np.mean((y - y_pred) ** 2)\n"
   ]
  },
  {
   "cell_type": "markdown",
   "metadata": {},
   "source": [
    "## LOAD AND PREPARE DATA"
   ]
  },
  {
   "cell_type": "code",
   "execution_count": 3,
   "metadata": {},
   "outputs": [],
   "source": [
    "dtype_dict = {'bathrooms':float, 'waterfront':int, 'sqft_above':int, 'sqft_living15':float, 'grade':int, 'yr_renovated':int, 'price':float, 'bedrooms':float, 'zipcode':str, 'long':float, 'sqft_lot15':float, 'sqft_living':float, 'floors':float, 'condition':int, 'lat':float, 'date':str, 'sqft_basement':int, 'yr_built':int, 'id':str, 'sqft_lot':int, 'view':int}\n",
    "sales_data = pd.read_csv(\"../data/house_data.csv\", dtype=dtype_dict)\n",
    "train = sales_data.sample(frac=0.8, random_state=0) \n",
    "test_valid = sales_data.drop(train.index)\n",
    "valid = test_valid.sample(frac=0.5, random_state=5)\n",
    "test = test_valid.drop(valid.index)\n"
   ]
  },
  {
   "cell_type": "code",
   "execution_count": 4,
   "metadata": {},
   "outputs": [],
   "source": [
    "feature_list = ['bedrooms',  \n",
    "                'bathrooms',  \n",
    "                'sqft_living',  \n",
    "                'sqft_lot',  \n",
    "                'floors',\n",
    "                'waterfront',  \n",
    "                'view',  \n",
    "                'condition',  \n",
    "                'grade',  \n",
    "                'sqft_above',  \n",
    "                'sqft_basement',\n",
    "                'yr_built',  \n",
    "                'yr_renovated',  \n",
    "                'lat',  \n",
    "                'long',  \n",
    "                'sqft_living15',  \n",
    "                'sqft_lot15']\n",
    "target = \"price\""
   ]
  },
  {
   "cell_type": "code",
   "execution_count": 5,
   "metadata": {},
   "outputs": [],
   "source": [
    "X_train = np.array(train[feature_list])\n",
    "y_train = np.array(train[target])\n",
    "X_valid = np.array(valid[feature_list])\n",
    "y_valid = np.array(valid[target])\n",
    "X_test = np.array(test[feature_list])\n",
    "y_test = np.array(test[target])"
   ]
  },
  {
   "cell_type": "markdown",
   "metadata": {},
   "source": [
    "## TEST KNN REGRESSION"
   ]
  },
  {
   "cell_type": "code",
   "execution_count": 6,
   "metadata": {},
   "outputs": [],
   "source": [
    "knn_reg_custom = KNN_Regression(n_neighbors=2)\n",
    "knn_reg_custom.fit(X_train, y_train)"
   ]
  },
  {
   "cell_type": "code",
   "execution_count": 7,
   "metadata": {},
   "outputs": [],
   "source": [
    "predicted = knn_reg_custom.predict(X_test)"
   ]
  },
  {
   "cell_type": "code",
   "execution_count": 8,
   "metadata": {},
   "outputs": [
    {
     "name": "stdout",
     "output_type": "stream",
     "text": [
      "RMSE on TEST k=2: 221947.5316945931\n"
     ]
    }
   ],
   "source": [
    "print(\"RMSE on TEST k=2:\", np.sqrt(calculate_MSE(y_test, predicted)))"
   ]
  },
  {
   "cell_type": "markdown",
   "metadata": {},
   "source": [
    "## CHOSE THE BEST K VALUE"
   ]
  },
  {
   "cell_type": "code",
   "execution_count": 9,
   "metadata": {},
   "outputs": [],
   "source": [
    "rmse_all = list()\n",
    "for k in range(1, 16):\n",
    "    # Train with different n_neighbors\n",
    "    knn_reg_custom = KNN_Regression(n_neighbors=k)\n",
    "    knn_reg_custom.fit(X_train, y_train)\n",
    "    \n",
    "    predict = knn_reg_custom.predict(X_valid)\n",
    "    \n",
    "    RMSE = np.sqrt(calculate_MSE(y_valid, predict))\n",
    "    rmse_all.append(RMSE)"
   ]
  },
  {
   "cell_type": "code",
   "execution_count": 10,
   "metadata": {},
   "outputs": [
    {
     "data": {
      "text/plain": [
       "[<matplotlib.lines.Line2D at 0x7fbc7e3df610>]"
      ]
     },
     "execution_count": 10,
     "metadata": {},
     "output_type": "execute_result"
    },
    {
     "data": {
      "image/png": "[encoded data removed]",
      "text/plain": [
       "<Figure size 432x288 with 1 Axes>"
      ]
     },
     "metadata": {
      "needs_background": "light"
     },
     "output_type": "display_data"
    }
   ],
   "source": [
    "import matplotlib.pyplot as plt\n",
    "\n",
    "kvals = range(1, 16)\n",
    "plt.plot(kvals, rmse_all,'bo-')"
   ]
  },
  {
   "cell_type": "markdown",
   "metadata": {},
   "source": [
    "### CHECK RMSE WITH NEW K VALUE ON TEST DATA"
   ]
  },
  {
   "cell_type": "code",
   "execution_count": 11,
   "metadata": {},
   "outputs": [
    {
     "name": "stdout",
     "output_type": "stream",
     "text": [
      "RMSE on TEST Custom KNN Regression k=8: 203869.20899738907\n"
     ]
    }
   ],
   "source": [
    "knn_reg_custom = KNN_Regression(n_neighbors=8)\n",
    "knn_reg_custom.fit(X_train, y_train)\n",
    "predicted = knn_reg_custom.predict(X_test)\n",
    "print(\"RMSE on TEST Custom KNN Regression k=8:\", np.sqrt(calculate_MSE(y_test, predicted)))"
   ]
  },
  {
   "cell_type": "markdown",
   "metadata": {},
   "source": [
    "### Compare with sklearn"
   ]
  },
  {
   "cell_type": "code",
   "execution_count": 12,
   "metadata": {},
   "outputs": [],
   "source": [
    "from sklearn.neighbors import KNeighborsRegressor"
   ]
  },
  {
   "cell_type": "code",
   "execution_count": 13,
   "metadata": {},
   "outputs": [
    {
     "name": "stdout",
     "output_type": "stream",
     "text": [
      "RMSE on TEST SKLearn Implementation k=8: 239686.77747041627\n"
     ]
    }
   ],
   "source": [
    "knn_reg_sklearn = KNeighborsRegressor(n_neighbors=8, algorithm=\"brute\", metric=\"euclidean\")\n",
    "knn_reg_sklearn.fit(X_train, y_train)\n",
    "print(\"RMSE on TEST SKLearn Implementation k=8:\", np.sqrt(calculate_MSE(y_test, knn_reg_sklearn.predict(X_test))))\n",
    "## Looks like sklearn even with algorithm=\"brute\" uses some kind of approximate search"
   ]
  },
  {
   "cell_type": "markdown",
   "metadata": {},
   "source": [
    "## PLOT TRUE FIT VS PREDICTED FIT"
   ]
  },
  {
   "cell_type": "code",
   "execution_count": 14,
   "metadata": {},
   "outputs": [
    {
     "data": {
      "text/plain": [
       "<matplotlib.legend.Legend at 0x7fbc3640e410>"
      ]
     },
     "execution_count": 14,
     "metadata": {},
     "output_type": "execute_result"
    },
    {
     "data": {
      "image/png": "[encoded data removed]",
      "text/plain": [
       "<Figure size 864x720 with 1 Axes>"
      ]
     },
     "metadata": {
      "needs_background": "light"
     },
     "output_type": "display_data"
    }
   ],
   "source": [
    "plt.figure(figsize=(12, 10))\n",
    "plt.plot(range(len(y_test)), np.sort(y_test), \"b-\", label=\"True Fit\", linewidth=1)\n",
    "plt.plot(range(len(predicted)), np.sort(predicted), \"r-.\", label=\"Predicted Fit\",linewidth=3)\n",
    "plt.legend(prop={\"size\":12})"
   ]
  },
  {
   "cell_type": "code",
   "execution_count": null,
   "metadata": {},
   "outputs": [],
   "source": []
  }
 ],
 "metadata": {
  "kernelspec": {
   "display_name": "Python 3",
   "language": "python",
   "name": "python3"
  },
  "language_info": {
   "codemirror_mode": {
    "name": "ipython",
    "version": 3
   },
   "file_extension": ".py",
   "mimetype": "text/x-python",
   "name": "python",
   "nbconvert_exporter": "python",
   "pygments_lexer": "ipython3",
   "version": "3.7.7"
  }
 },
 "nbformat": 4,
 "nbformat_minor": 4
}
