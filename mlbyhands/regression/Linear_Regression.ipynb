{
 "cells": [
  {
   "cell_type": "markdown",
   "metadata": {},
   "source": [
    "# Multivariate Linear Regression\n",
    "## Implementations:\n",
    "- ### `Newton Method`\n",
    "- ### `Matrix Equation`\n",
    "- ### `Gradient Descent`"
   ]
  },
  {
   "cell_type": "code",
   "execution_count": 1,
   "metadata": {
    "pycharm": {
     "name": "#%%\n"
    }
   },
   "outputs": [],
   "source": [
    "import pandas as pd\n",
    "import numpy as np\n",
    "import matplotlib.pyplot as plt"
   ]
  },
  {
   "cell_type": "code",
   "execution_count": 2,
   "metadata": {
    "pycharm": {
     "name": "#%%\n"
    }
   },
   "outputs": [],
   "source": [
    "class LinearRegression:\n",
    "    ALGORITHMS = ['newton', 'matrix_equation', 'gradient_descent']\n",
    "    CONVERGENCE_THRESHOLD = 1.5e-8\n",
    "\n",
    "    \"\"\"\n",
    "    n_iterations: float\n",
    "        The number of iteration witch algorithm will perform for tuning weights, \n",
    "        this attribute works only for gradient_descent solver\n",
    "    learning_rate: float\n",
    "        The gradient decent step size, this attribute works only for gradient_descent solver\n",
    "    solver: string\n",
    "        The algorithm that will be used for training linear regression, list of available\n",
    "        algorithms: ['newton', \"matrix_equation\", \"gradient_descent\"] \n",
    "    \"\"\"\n",
    "\n",
    "    def __init__(self, learning_rate=1.5e-11, n_iterations=1000, solver='newton'):\n",
    "        self.learning_rate = learning_rate\n",
    "        self.n_iterations = n_iterations\n",
    "        self.cost_history = list()\n",
    "\n",
    "        if solver in (LinearRegression.ALGORITHMS):\n",
    "            self.solver = solver\n",
    "        else:\n",
    "            raise ValueError(\"Invalid value for 'solver' attribute: %s, 'solver' \"\n",
    "                             \"should be in ['newton, 'matrix_equation', 'gradient_descent']\" % solver)\n",
    "\n",
    "    def fit(self, X, y):\n",
    "        self.weights = np.zeros(X.shape[1] + 1)\n",
    "\n",
    "        X = np.array(X)\n",
    "        y = np.array(y)\n",
    "\n",
    "        # Add intercept as first column\n",
    "        X = np.insert(X, 0, 1, axis=1)\n",
    "\n",
    "        if self.solver == \"matrix_equation\":\n",
    "            self.weights = self._solve_matrix_equation(X, y)\n",
    "\n",
    "        elif self.solver == \"newton\":\n",
    "            self.weights = self._solve_newton(X, y, self.weights)\n",
    "\n",
    "        elif self.solver == \"gradient_descent\":\n",
    "            self.weights = self._solve_gradient_descent(X, y, self.weights, self.learning_rate, self.n_iterations)\n",
    "\n",
    "        else:\n",
    "            raise ValueError(\"Unknown algorithm name\")\n",
    "\n",
    "    def predict(self, X):\n",
    "        X = np.insert(np.array(X), 0, 1, axis=1)\n",
    "        return X @ self.weights\n",
    "    \n",
    "    def _calculate_MSE(self, X, y, w, add_intercept=False):\n",
    "        if add_intercept:\n",
    "            X = np.insert(np.array(X), 0, 1, axis=1)\n",
    "\n",
    "        MSE = np.mean((y - X @ w) ** 2)\n",
    "        return MSE\n",
    "\n",
    "    def _solve_matrix_equation(self, X, y):\n",
    "        '''\n",
    "             Classic formula for solving RSS (Residual Sum of Squares)\n",
    "             RSS(w) = (y - X @ w).T @(y - X @ w)\n",
    "        '''\n",
    "        return np.linalg.pinv(X.T @ X) @ X.T @ y\n",
    "\n",
    "    def _solve_newton(self, X, y, weights):\n",
    "        w = weights\n",
    "        cost_residual = float(\"inf\")\n",
    "\n",
    "        while (cost_residual > LinearRegression.CONVERGENCE_THRESHOLD):\n",
    "            prev_cost = self._calculate_MSE(X, y, w)\n",
    "            w = w - np.linalg.inv(self._hessian(X)) @ self._gradient(X, y, w)\n",
    "            new_cost = self._calculate_MSE(X, y, w)\n",
    "\n",
    "            cost_residual = abs(prev_cost - new_cost)\n",
    "\n",
    "        return w\n",
    "\n",
    "    def _solve_gradient_descent(self, X, y, weights, learning_rate=1.5e-11, n_iterations=1000):\n",
    "        w = weights\n",
    "        self.cost_history.append(self._calculate_MSE(X, y, w))\n",
    "        for _ in range(n_iterations):\n",
    "            w = w - learning_rate * self._gradient(X, y, w)\n",
    "            self.cost_history.append(self._calculate_MSE(X, y, w))\n",
    "\n",
    "        return w\n",
    "\n",
    "    def _gradient(self, X, y, weights):\n",
    "        '''Gradient vector from RSS'''\n",
    "        m = len(X)\n",
    "        return -2 * X.T @ (y - X @ weights)\n",
    "\n",
    "    def _hessian(self, X):\n",
    "        '''Hessian matrix from RSS'''\n",
    "        m = len(X)\n",
    "        return 2 * X.T @ X\n",
    "    \n",
    "    def get_coefficients(self):\n",
    "        return self.weights\n",
    "    \n",
    "    def get_training_history(self):\n",
    "        return self.cost_history"
   ]
  },
  {
   "cell_type": "markdown",
   "metadata": {
    "pycharm": {
     "name": "#%%\n"
    }
   },
   "source": [
    "# Test implementation on sklearn `california_housing` data"
   ]
  },
  {
   "cell_type": "code",
   "execution_count": 20,
   "metadata": {
    "pycharm": {
     "name": "#%%\n"
    }
   },
   "outputs": [],
   "source": [
    "from sklearn.datasets import fetch_california_housing\n",
    "from sklearn.model_selection import train_test_split\n",
    "from sklearn.linear_model import LinearRegression as SKLearnLinearRegression\n",
    "from sklearn.metrics import mean_squared_error"
   ]
  },
  {
   "cell_type": "code",
   "execution_count": 21,
   "metadata": {
    "pycharm": {
     "name": "#%%\n"
    }
   },
   "outputs": [],
   "source": [
    "X, y = fetch_california_housing(return_X_y=True, as_frame=True)"
   ]
  },
  {
   "cell_type": "code",
   "execution_count": 22,
   "metadata": {
    "pycharm": {
     "name": "#%%\n"
    }
   },
   "outputs": [],
   "source": [
    "X_train, X_test, y_train, y_test = train_test_split(X, y, test_size = 0.2, random_state = 0 )"
   ]
  },
  {
   "cell_type": "code",
   "execution_count": 23,
   "metadata": {
    "pycharm": {
     "name": "#%%\n"
    }
   },
   "outputs": [
    {
     "data": {
      "text/plain": [
       "(16512, 4128)"
      ]
     },
     "execution_count": 23,
     "metadata": {},
     "output_type": "execute_result"
    }
   ],
   "source": [
    "len(X_train), len(X_test)"
   ]
  },
  {
   "cell_type": "code",
   "execution_count": 24,
   "metadata": {
    "pycharm": {
     "name": "#%%\n"
    }
   },
   "outputs": [],
   "source": [
    "## Train custom model and compare with sklearn implementation."
   ]
  },
  {
   "cell_type": "code",
   "execution_count": 25,
   "metadata": {
    "pycharm": {
     "name": "#%%\n"
    }
   },
   "outputs": [],
   "source": [
    "# Train linear legression with Matrix Equation solever (custom model)\n",
    "custom_lin_reg = LinearRegression(solver=\"matrix_equation\")\n",
    "custom_lin_reg.fit(X_train, y_train)"
   ]
  },
  {
   "cell_type": "code",
   "execution_count": 26,
   "metadata": {
    "pycharm": {
     "name": "#%%\n"
    }
   },
   "outputs": [
    {
     "data": {
      "text/plain": [
       "LinearRegression()"
      ]
     },
     "execution_count": 26,
     "metadata": {},
     "output_type": "execute_result"
    }
   ],
   "source": [
    "# Train linear regression sklearn model\n",
    "sklearn_lin_reg = SKLearnLinearRegression()\n",
    "sklearn_lin_reg.fit(X_train, y_train)"
   ]
  },
  {
   "cell_type": "code",
   "execution_count": 27,
   "metadata": {
    "pycharm": {
     "name": "#%%\n"
    }
   },
   "outputs": [],
   "source": [
    "y_pred_custom = custom_lin_reg.predict(X_test)\n",
    "y_pred_sklearn = sklearn_lin_reg.predict(X_test)"
   ]
  },
  {
   "cell_type": "code",
   "execution_count": 28,
   "metadata": {
    "pycharm": {
     "name": "#%%\n"
    }
   },
   "outputs": [
    {
     "name": "stdout",
     "output_type": "stream",
     "text": [
      "Custom model MSE: 0.5289841670593455\n",
      "SKLearn model MSE: 0.5289841670367221\n"
     ]
    }
   ],
   "source": [
    "print(\"Custom model MSE:\", mean_squared_error(y_test, y_pred_custom))\n",
    "print(\"SKLearn model MSE:\", mean_squared_error(y_test, y_pred_sklearn))"
   ]
  },
  {
   "cell_type": "code",
   "execution_count": 29,
   "metadata": {
    "pycharm": {
     "name": "#%%\n"
    }
   },
   "outputs": [
    {
     "name": "stdout",
     "output_type": "stream",
     "text": [
      "Custom model coefficients: [-3.68585687e+01  4.33333407e-01  9.29324344e-03 -9.86433746e-02\n",
      "  5.93215489e-01 -7.56192490e-06 -4.74516385e-03 -4.21449332e-01\n",
      " -4.34166037e-01]\n",
      "SKLearn model coefficients: -36.85856910680125 [ 4.33333407e-01  9.29324337e-03 -9.86433739e-02  5.93215487e-01\n",
      " -7.56192502e-06 -4.74516383e-03 -4.21449336e-01 -4.34166041e-01]\n"
     ]
    }
   ],
   "source": [
    "print(\"Custom model coefficients:\", custom_lin_reg.get_coefficients())\n",
    "print(\"SKLearn model coefficients:\", sklearn_lin_reg.intercept_, sklearn_lin_reg.coef_)"
   ]
  },
  {
   "cell_type": "markdown",
   "metadata": {},
   "source": [
    "## Check MSE for Newton Method implementation"
   ]
  },
  {
   "cell_type": "code",
   "execution_count": 30,
   "metadata": {
    "pycharm": {
     "name": "#%%\n"
    }
   },
   "outputs": [],
   "source": [
    "# Train linear legression with Newton Medhod solver (custom model)\n",
    "custom_lin_reg_newton = LinearRegression(solver=\"newton\")\n",
    "custom_lin_reg_newton.fit(X_train, y_train)"
   ]
  },
  {
   "cell_type": "code",
   "execution_count": 31,
   "metadata": {
    "pycharm": {
     "name": "#%%\n"
    }
   },
   "outputs": [],
   "source": [
    "y_pred_custom_newton = custom_lin_reg_newton.predict(X_test)"
   ]
  },
  {
   "cell_type": "code",
   "execution_count": 32,
   "metadata": {
    "pycharm": {
     "name": "#%%\n"
    }
   },
   "outputs": [
    {
     "name": "stdout",
     "output_type": "stream",
     "text": [
      "Custom model Newton Method MSE: 0.5289841670367209\n",
      "SKLearn model MSE: 0.5289841670367221\n"
     ]
    }
   ],
   "source": [
    "print(\"Custom model Newton Method MSE:\", mean_squared_error(y_test, y_pred_custom_newton))\n",
    "print(\"SKLearn model MSE:\", mean_squared_error(y_test, y_pred_sklearn))"
   ]
  },
  {
   "cell_type": "markdown",
   "metadata": {},
   "source": [
    "## Last but not least simple gradient descent approach "
   ]
  },
  {
   "cell_type": "code",
   "execution_count": 33,
   "metadata": {
    "pycharm": {
     "name": "#%%\n"
    }
   },
   "outputs": [],
   "source": [
    "# Train linear legression with Newton Medhod solver (custom model)\n",
    "custom_lin_reg_grad_desc = LinearRegression(solver=\"gradient_descent\", learning_rate = 1.7e-11, n_iterations=1000)\n",
    "custom_lin_reg_grad_desc.fit(X_train, y_train)"
   ]
  },
  {
   "cell_type": "code",
   "execution_count": 34,
   "metadata": {
    "pycharm": {
     "name": "#%%\n"
    }
   },
   "outputs": [],
   "source": [
    "y_pred_custom_grad_desc = custom_lin_reg_grad_desc.predict(X_test)"
   ]
  },
  {
   "cell_type": "code",
   "execution_count": 35,
   "metadata": {
    "pycharm": {
     "name": "#%%\n"
    }
   },
   "outputs": [
    {
     "name": "stdout",
     "output_type": "stream",
     "text": [
      "Custom model Gradient Descent MSE: 1.2915521855179877\n",
      "SKLearn model MSE: 0.5289841670367221\n"
     ]
    }
   ],
   "source": [
    "print(\"Custom model Gradient Descent MSE:\", mean_squared_error(y_test, y_pred_custom_grad_desc))\n",
    "print(\"SKLearn model MSE:\", mean_squared_error(y_test, y_pred_sklearn))"
   ]
  },
  {
   "cell_type": "code",
   "execution_count": 36,
   "metadata": {
    "pycharm": {
     "name": "#%%\n"
    }
   },
   "outputs": [
    {
     "data": {
      "image/png": "[encoded data removed]",
      "text/plain": [
       "<Figure size 432x288 with 1 Axes>"
      ]
     },
     "metadata": {
      "needs_background": "light"
     },
     "output_type": "display_data"
    }
   ],
   "source": [
    "## Check that the MSE decreases at each iteration\n",
    "plt.plot(custom_lin_reg_grad_desc.get_training_history())\n",
    "plt.ylabel('MSE')\n",
    "plt.xlabel('Iterations');"
   ]
  }
 ],
 "metadata": {
  "kernelspec": {
   "display_name": "Python 3",
   "language": "python",
   "name": "python3"
  },
  "language_info": {
   "codemirror_mode": {
    "name": "ipython",
    "version": 3
   },
   "file_extension": ".py",
   "mimetype": "text/x-python",
   "name": "python",
   "nbconvert_exporter": "python",
   "pygments_lexer": "ipython3",
   "version": "3.7.7"
  }
 },
 "nbformat": 4,
 "nbformat_minor": 4
}