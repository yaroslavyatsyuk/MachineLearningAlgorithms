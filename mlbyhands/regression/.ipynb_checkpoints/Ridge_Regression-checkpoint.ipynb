{
 "cells": [
  {
   "cell_type": "markdown",
   "metadata": {},
   "source": [
    "# RIDGE REGRESSION IMPLEMENTATION"
   ]
  },
  {
   "cell_type": "markdown",
   "metadata": {},
   "source": [
    "## ` Matrix Equation Approach `\n",
    "### $$W_{L2} = (X^{T}X + \\lambda I)^{-1}Xy$$\n",
    "\n",
    "## `Gradient Descend Approach`\n",
    "### $$ w_{j} = w_{j} - \\eta[-2\\sum \\limits _{i=1} ^{m} (x_{j}^{(i)})(y^{(i)} - h_{w}(x^{(i)}))+ 2\\lambda w_{j}] $$\n",
    "- $\\lambda$ - regularization coefficient\n",
    "- $\\eta$ - learning rate"
   ]
  },
  {
   "cell_type": "code",
   "execution_count": 8,
   "metadata": {},
   "outputs": [],
   "source": [
    "import numpy as np\n",
    "import pandas as pd"
   ]
  },
  {
   "cell_type": "code",
   "execution_count": 283,
   "metadata": {},
   "outputs": [],
   "source": [
    "class RidgeRegression:\n",
    "    \"\"\"\n",
    "    n_iterations: float\n",
    "        The number of iteration witch algorithm will perform for tuning weights,\n",
    "        this attribute works only for gradient_descent solver\n",
    "    learning_rate: float\n",
    "        The gradient decent step size, this attribute works only for gradient_descent solver\n",
    "    alpha: float\n",
    "       Regularization coefficient, higher alpha -> higher regularization, must be a positive float.\n",
    "       default = 1e-3\n",
    "    \"\"\"\n",
    "\n",
    "    def __init__(self, learning_rate=1e-13, alpha=1e-3, n_iterations=1000):\n",
    "        self.learning_rate = learning_rate\n",
    "        self.n_iterations = n_iterations\n",
    "        self.cost_history = list()\n",
    "        self.alpha = alpha\n",
    "\n",
    "    def _calculate_MSE(self, X, y, w, add_intercept=False):\n",
    "        if add_intercept:\n",
    "            X = np.insert(np.array(X), 0, 1, axis=1)\n",
    "\n",
    "        MSE = np.mean((y - X @ w) ** 2)\n",
    "        return MSE\n",
    "\n",
    "    def predict(self, X):\n",
    "        X = np.insert(np.array(X), 0, 1, axis=1)\n",
    "        return X @ self.weights\n",
    "\n",
    "    def fit(self, X, y):\n",
    "        self.weights = np.zeros(X.shape[1] + 1)\n",
    "        w = self.weights\n",
    "\n",
    "        X = np.array(X)\n",
    "        y = np.array(y)\n",
    "\n",
    "        # Add intercept as first column\n",
    "        X = np.insert(X, 0, 1, axis=1)\n",
    "\n",
    "        for _ in range(self.n_iterations):\n",
    "            for j in range(len(w)):\n",
    "                if j == 0:  # do not penalize intercept\n",
    "                    grad = -2 * (X[:, j] @ (y - (X @ w)))\n",
    "                else:\n",
    "                    grad = -2 * (X[:, j] @ (y - (X @ w))) + (2 * self.alpha * w[j])\n",
    "\n",
    "                w[j] = w[j] - (self.learning_rate * grad)\n",
    "            \n",
    "            self.cost_history.append(self._calculate_MSE(X, y, w))\n",
    "            \n",
    "        MSE = self._calculate_MSE(X, y, w)\n",
    "        print(\"Training MSE:\", MSE)\n",
    "        print(\"Training RMSE:\", np.sqrt(MSE))\n",
    "        print(\"Weights:\", w)\n",
    "        self.weights = w\n",
    "        \n",
    "    def get_coefficients(self):\n",
    "        return self.weights\n",
    "    \n",
    "    def get_training_history(self):\n",
    "        return self.cost_history"
   ]
  },
  {
   "cell_type": "markdown",
   "metadata": {},
   "source": [
    "# Test implementation on sklearn `boston housing` data"
   ]
  },
  {
   "cell_type": "code",
   "execution_count": 284,
   "metadata": {},
   "outputs": [],
   "source": [
    "from sklearn.datasets import load_boston\n",
    "from sklearn.model_selection import train_test_split\n",
    "from sklearn.linear_model import LinearRegression as SKLearnLinearRegression\n",
    "from sklearn.metrics import mean_squared_error, r2_score"
   ]
  },
  {
   "cell_type": "code",
   "execution_count": 285,
   "metadata": {},
   "outputs": [],
   "source": [
    "X, y = load_boston(return_X_y=True)"
   ]
  },
  {
   "cell_type": "code",
   "execution_count": 286,
   "metadata": {},
   "outputs": [],
   "source": [
    "X_train, X_test, y_train, y_test = train_test_split(X, y, test_size = 0.2, random_state = 0 )"
   ]
  },
  {
   "cell_type": "code",
   "execution_count": 287,
   "metadata": {},
   "outputs": [
    {
     "data": {
      "text/plain": [
       "(404, 102)"
      ]
     },
     "execution_count": 287,
     "metadata": {},
     "output_type": "execute_result"
    }
   ],
   "source": [
    "len(X_train), len(X_test)"
   ]
  },
  {
   "cell_type": "markdown",
   "metadata": {},
   "source": [
    "## Train Linear Regression Model with no regularization"
   ]
  },
  {
   "cell_type": "code",
   "execution_count": 288,
   "metadata": {},
   "outputs": [
    {
     "name": "stdout",
     "output_type": "stream",
     "text": [
      "Training MSE: 76.72793735571062\n",
      "Training RMSE: 8.759448461844537\n",
      "Weights: [ 2.22574536e-04 -2.68650944e-03  1.42822426e-02 -1.68426406e-03\n",
      "  6.87340409e-05  7.03369217e-05  2.07479926e-03  2.03815852e-03\n",
      "  1.38758705e-03 -1.31233609e-03 -2.58749062e-03  2.45406021e-03\n",
      "  6.32136197e-02 -3.61569521e-03]\n"
     ]
    }
   ],
   "source": [
    "lin_reg_no_l2 = RidgeRegression(alpha=0, learning_rate=2e-10)\n",
    "lin_reg_no_l2.fit(X_train, y_train)"
   ]
  },
  {
   "cell_type": "markdown",
   "metadata": {},
   "source": [
    "## Check that gradient descent implemented correctly"
   ]
  },
  {
   "cell_type": "code",
   "execution_count": 289,
   "metadata": {},
   "outputs": [
    {
     "data": {
      "text/plain": [
       "Text(0, 0.5, 'MSE')"
      ]
     },
     "execution_count": 289,
     "metadata": {},
     "output_type": "execute_result"
    },
    {
     "data": {
      "image/png": "[encoded data removed]",
      "text/plain": [
       "<Figure size 576x360 with 1 Axes>"
      ]
     },
     "metadata": {
      "needs_background": "light"
     },
     "output_type": "display_data"
    }
   ],
   "source": [
    "import matplotlib.pyplot as plt\n",
    "plt.figure(figsize=(8, 5))\n",
    "plt.plot(lin_reg_no_l2.cost_history)\n",
    "plt.xlabel(\"# Iteration\")\n",
    "plt.ylabel(\"MSE\")"
   ]
  },
  {
   "cell_type": "markdown",
   "metadata": {},
   "source": [
    "## Evaluate model performens with no regularization on test data set"
   ]
  },
  {
   "cell_type": "code",
   "execution_count": 290,
   "metadata": {},
   "outputs": [
    {
     "name": "stdout",
     "output_type": "stream",
     "text": [
      "Preformance evaluations without any regularization\n",
      "MSE: 93.5063250063567\n"
     ]
    }
   ],
   "source": [
    "from sklearn.metrics import mean_squared_error\n",
    "MSE_no_l2 = mean_squared_error(y_test, lin_reg_no_l2.predict(X_test))\n",
    "print(\"Preformance evaluations without any regularization\\nMSE:\", MSE_no_l2)"
   ]
  },
  {
   "cell_type": "markdown",
   "metadata": {},
   "source": [
    "## Train Linear Regression Model with L2 regularization"
   ]
  },
  {
   "cell_type": "code",
   "execution_count": 291,
   "metadata": {},
   "outputs": [
    {
     "name": "stdout",
     "output_type": "stream",
     "text": [
      "Training MSE: 77.76743932827478\n",
      "Training RMSE: 8.81858488241026\n",
      "Weights: [ 2.57613045e-04 -2.28646253e-03  1.21864970e-02 -1.34507884e-03\n",
      "  5.82206232e-05  6.44410848e-05  1.81311666e-03  2.36684473e-03\n",
      "  1.23197480e-03 -1.13293031e-03 -4.92840467e-05  2.28399265e-03\n",
      "  5.95988230e-02 -2.89431140e-03]\n"
     ]
    }
   ],
   "source": [
    "lin_reg_with_l2 = RidgeRegression(alpha=1e6, learning_rate=2e-10)\n",
    "lin_reg_with_l2.fit(X_train, y_train)"
   ]
  },
  {
   "cell_type": "markdown",
   "metadata": {},
   "source": [
    "## Evaluate model performens with L2 regularization on test data set"
   ]
  },
  {
   "cell_type": "code",
   "execution_count": 292,
   "metadata": {},
   "outputs": [
    {
     "name": "stdout",
     "output_type": "stream",
     "text": [
      "Preformance evaluation with L2 regularization\n",
      "MSE: 90.50357144454257\n"
     ]
    }
   ],
   "source": [
    "MSE_with_l2 = mean_squared_error(y_test, lin_reg_with_l2.predict(X_test))\n",
    "print(\"Preformance evaluation with L2 regularization\\nMSE:\", MSE_with_l2)"
   ]
  },
  {
   "cell_type": "markdown",
   "metadata": {},
   "source": [
    "## Compare MSE on Models with L2 regularization and without"
   ]
  },
  {
   "cell_type": "code",
   "execution_count": 294,
   "metadata": {},
   "outputs": [
    {
     "name": "stdout",
     "output_type": "stream",
     "text": [
      "MSE without regularization: 93.5063250063567\n",
      "MSE with high L2 regularization: 90.50357144454257\n"
     ]
    }
   ],
   "source": [
    "print(\"MSE without regularization:\", MSE_no_l2)\n",
    "print(\"MSE with high L2 regularization:\", MSE_with_l2)"
   ]
  }
 ],
 "metadata": {
  "kernelspec": {
   "display_name": "Python 3",
   "language": "python",
   "name": "python3"
  },
  "language_info": {
   "codemirror_mode": {
    "name": "ipython",
    "version": 3
   },
   "file_extension": ".py",
   "mimetype": "text/x-python",
   "name": "python",
   "nbconvert_exporter": "python",
   "pygments_lexer": "ipython3",
   "version": "3.7.7"
  }
 },
 "nbformat": 4,
 "nbformat_minor": 4
}
